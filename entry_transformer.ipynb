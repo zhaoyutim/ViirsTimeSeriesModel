{
 "cells": [
  {
   "cell_type": "code",
   "execution_count": null,
   "metadata": {
    "collapsed": true
   },
   "outputs": [],
   "source": [
    "import os\n",
    "!git clone https://github.com/zhaoyutim/ViirsTimeSeriesModel.git\n",
    "os.chdir('ViirsTimeSeriesModel')"
   ]
  },
  {
   "cell_type": "code",
   "execution_count": null,
   "outputs": [],
   "source": [
    "import numpy as np\n",
    "from sklearn.model_selection import train_test_split\n",
    "\n",
    "from model.vit.vit_model import VisionTransformerGenerator\n",
    "\n",
    "if __name__ == '__main__':\n",
    "    MAX_EPOCHS = 100\n",
    "    dataset = np.load('../data/proj3_training.npy').transpose((1,0,2))\n",
    "    print(dataset.shape)\n",
    "\n",
    "    positive_sample = dataset[(dataset[:,:,45]>0).any(axis=1)]\n",
    "    negative_sample = dataset[(dataset[:,:,45]==0).any(axis=1)]\n",
    "    negative_sample = negative_sample[np.random.choice(negative_sample.shape[0], positive_sample.shape[0])]\n",
    "    dataset = np.concatenate((positive_sample,negative_sample), axis=0)\n",
    "    y_dataset = np.zeros((dataset.shape[0],dataset.shape[1],2))\n",
    "    y_dataset[: ,:, 0] = dataset[:, :, 45] > 0\n",
    "    y_dataset[:, :, 1] = dataset[:, :, 45] == 0\n",
    "\n",
    "    x_train, x_test, y_train, y_test = train_test_split(dataset[:,:,:45], y_dataset, test_size=0.2)\n",
    "    input_shape = x_train[0,:,:].shape\n",
    "    num_classes=2\n",
    "    projection_dim = 128\n",
    "    num_heads = 4\n",
    "    transformer_units = [\n",
    "        projection_dim * 2,\n",
    "        projection_dim,\n",
    "    ]  # Size of the transformer layers\n",
    "    transformer_layers = 8\n",
    "\n",
    "    mlp_head_units = [2048, 1024]\n",
    "\n",
    "    vit_gen = VisionTransformerGenerator(input_shape, projection_dim, transformer_layers, num_heads, mlp_head_units, num_classes)\n",
    "\n",
    "    history = vit_gen.run_experiment(x_train, y_train, x_test, y_test, batch_size=256, num_epochs=100, learning_rate=0.001, weight_decay=0.0001)"
   ],
   "metadata": {
    "collapsed": false,
    "pycharm": {
     "name": "#%%\n"
    }
   }
  }
 ],
 "metadata": {
  "kernelspec": {
   "display_name": "Python 3",
   "language": "python",
   "name": "python3"
  },
  "language_info": {
   "codemirror_mode": {
    "name": "ipython",
    "version": 2
   },
   "file_extension": ".py",
   "mimetype": "text/x-python",
   "name": "python",
   "nbconvert_exporter": "python",
   "pygments_lexer": "ipython2",
   "version": "2.7.6"
  },
  "pycharm": {
   "stem_cell": {
    "cell_type": "raw",
    "source": [],
    "metadata": {
     "collapsed": false
    }
   }
  }
 },
 "nbformat": 4,
 "nbformat_minor": 0
}